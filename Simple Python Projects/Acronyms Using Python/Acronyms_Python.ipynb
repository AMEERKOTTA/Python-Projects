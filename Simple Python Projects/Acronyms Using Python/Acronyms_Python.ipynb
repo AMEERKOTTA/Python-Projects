{
 "cells": [
  {
   "cell_type": "markdown",
   "metadata": {},
   "source": [
    "## Acronyms Using Python"
   ]
  },
  {
   "cell_type": "markdown",
   "metadata": {},
   "source": [
    "Acronym which means\n",
    "\n",
    "+ for example, Artificial Intelligence == AI\n",
    "+ natural language processing == NLP"
   ]
  },
  {
   "cell_type": "code",
   "execution_count": null,
   "metadata": {},
   "outputs": [],
   "source": [
    "##get the input string\n",
    "user_input = str(input(\"Enter a Phrase : \"))\n",
    "print(user_input)\n",
    "\n",
    "## split the phrase into different words by space\n",
    "text = user_input.split()\n",
    "print(text)\n",
    "\n",
    "## Initiate a empty string to append the First Letters of Splitted Words\n",
    "acronym = \"\"\n",
    "print(acronym)\n",
    "\n",
    "## loop through different words and pick the first letter as capital\n",
    "for word in text:\n",
    "    print(word)\n",
    "    acronym=acronym+str(word[0]).upper()\n",
    "    \n",
    "print(acronym)"
   ]
  },
  {
   "cell_type": "code",
   "execution_count": null,
   "metadata": {},
   "outputs": [],
   "source": []
  }
 ],
 "metadata": {
  "kernelspec": {
   "display_name": "Python 3",
   "language": "python",
   "name": "python3"
  },
  "language_info": {
   "codemirror_mode": {
    "name": "ipython",
    "version": 3
   },
   "file_extension": ".py",
   "mimetype": "text/x-python",
   "name": "python",
   "nbconvert_exporter": "python",
   "pygments_lexer": "ipython3",
   "version": "3.8.3"
  }
 },
 "nbformat": 4,
 "nbformat_minor": 4
}
